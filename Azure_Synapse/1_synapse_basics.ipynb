{
 "cells": [
  {
   "attachments": {},
   "cell_type": "markdown",
   "metadata": {},
   "source": [
    "# 1. Read data from datalake"
   ]
  },
  {
   "cell_type": "code",
   "execution_count": null,
   "metadata": {},
   "outputs": [],
   "source": [
    "SELECT\n",
    "    TOP 100 *\n",
    "FROM\n",
    "    OPENROWSET(\n",
    "        BULK 'https://storagedev1112.dfs.core.windows.net/adv-data-source/AdventureWorks_Products.csv',\n",
    "        FORMAT = 'CSV',\n",
    "        PARSER_VERSION = '2.0'\n",
    "    ) AS [result]"
   ]
  },
  {
   "attachments": {},
   "cell_type": "markdown",
   "metadata": {},
   "source": [
    "# 2. Create external table - CSV file\n",
    "2.1 create a database master key.\\\n",
    "&nbsp;&nbsp;&nbsp;&nbsp; This key will be used to protect the Shared Access Signature which is specified in the next step\n"
   ]
  },
  {
   "cell_type": "code",
   "execution_count": null,
   "metadata": {},
   "outputs": [],
   "source": [
    "CREATE MASTER KEY ENCRYPTION BY PASSWORD = 'P@ssw0rd@123';"
   ]
  },
  {
   "attachments": {},
   "cell_type": "markdown",
   "metadata": {},
   "source": [
    "2.2 using the Shared Access Signature to authorize the use of the Azure Data Lake Storage account"
   ]
  },
  {
   "cell_type": "code",
   "execution_count": null,
   "metadata": {},
   "outputs": [],
   "source": [
    "CREATE DATABASE SCOPED CREDENTIAL SasToken\n",
    "WITH IDENTITY='SHARED ACCESS SIGNATURE'\n",
    ", SECRET = 'sas_key';"
   ]
  },
  {
   "attachments": {},
   "cell_type": "markdown",
   "metadata": {},
   "source": [
    "2.3 Create external file format"
   ]
  },
  {
   "cell_type": "code",
   "execution_count": null,
   "metadata": {},
   "outputs": [],
   "source": [
    "CREATE EXTERNAL FILE FORMAT TextFileFormat WITH (  \n",
    "      FORMAT_TYPE = DELIMITEDTEXT,  \n",
    "    FORMAT_OPTIONS (  \n",
    "        FIELD_TERMINATOR = ',',\n",
    "        FIRST_ROW = 2))"
   ]
  },
  {
   "attachments": {},
   "cell_type": "markdown",
   "metadata": {},
   "source": [
    "2.4 Create External Table"
   ]
  },
  {
   "cell_type": "code",
   "execution_count": null,
   "metadata": {},
   "outputs": [],
   "source": [
    "CREATE EXTERNAL TABLE [logdata]\n",
    "(\n",
    "    [Correlation id] [varchar](200) NULL,\n",
    "\t[Operation name] [varchar](200) NULL,\n",
    "\t[Status] [varchar](100) NULL,\n",
    "\t[Event category] [varchar](100) NULL,\n",
    "\t[Level] [varchar](100) NULL,\n",
    "\t[Time] [datetime] NULL,\n",
    "\t[Subscription] [varchar](200) NULL,\n",
    "\t[Event initiated by] [varchar](1000) NULL,\n",
    "\t[Resource type] [varchar](1000) NULL,\n",
    "\t[Resource group] [varchar](1000) NULL,\n",
    "    [Resource] [varchar](2000) NULL)\n",
    "WITH (\n",
    " LOCATION = '/Log.csv',\n",
    "    DATA_SOURCE = log_data,  \n",
    "    FILE_FORMAT = TextFileFormat\n",
    ")"
   ]
  },
  {
   "attachments": {},
   "cell_type": "markdown",
   "metadata": {},
   "source": [
    "# 3. query file formats,data sources,database scoped credentials"
   ]
  },
  {
   "cell_type": "code",
   "execution_count": null,
   "metadata": {},
   "outputs": [],
   "source": [
    "SELECT * FROM sys.database_scoped_credentials\n",
    "SELECT * FROM sys.external_file_formats\n",
    "SELECT * FROM sys.external_data_sources"
   ]
  }
 ],
 "metadata": {
  "kernelspec": {
   "display_name": "Python 3 (ipykernel)",
   "language": "python",
   "name": "python3"
  },
  "language_info": {
   "codemirror_mode": {
    "name": "ipython",
    "version": 3
   },
   "file_extension": ".py",
   "mimetype": "text/x-python",
   "name": "python",
   "nbconvert_exporter": "python",
   "pygments_lexer": "ipython3",
   "version": "3.11.3"
  }
 },
 "nbformat": 4,
 "nbformat_minor": 2
}
